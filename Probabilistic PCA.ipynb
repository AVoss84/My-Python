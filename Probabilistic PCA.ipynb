{
 "cells": [
  {
   "cell_type": "markdown",
   "metadata": {},
   "source": [
    "## Probabilistic PCA\n",
    "Reference: chapter 12, Bishop book"
   ]
  },
  {
   "cell_type": "code",
   "execution_count": 235,
   "metadata": {},
   "outputs": [],
   "source": [
    "import matplotlib.pyplot as plt\n",
    "from mpl_toolkits.mplot3d import Axes3D\n",
    "#from sklearn.model_selection import train_test_split\n",
    "import os, pickle\n",
    "import numpy as np\n",
    "from numpy import log, sum, exp, prod\n",
    "from numpy.linalg import det\n",
    "from numpy.random import beta, binomial, dirichlet, uniform, gamma, seed, multinomial, gumbel, rand, multivariate_normal, normal\n",
    "from scipy.stats import wishart #, norm, randint, bernoulli, beta, multinomial, gamma, dirichlet, uniform\n",
    "from scipy.special import digamma\n",
    "from imp import reload\n",
    "from copy import deepcopy\n",
    "#import seaborn as sns\n",
    "import pandas as pd\n"
   ]
  },
  {
   "cell_type": "code",
   "execution_count": 293,
   "metadata": {},
   "outputs": [],
   "source": [
    "N = 10**4\n",
    "D = 20\n",
    "K = 5    # latent dimension M in book\n",
    "MCsim = 30\n",
    "burnin = 10"
   ]
  },
  {
   "cell_type": "markdown",
   "metadata": {},
   "source": [
    "### Generate data: "
   ]
  },
  {
   "cell_type": "code",
   "execution_count": 318,
   "metadata": {},
   "outputs": [
    {
     "data": {
      "text/plain": [
       "(10000, 20)"
      ]
     },
     "execution_count": 318,
     "metadata": {},
     "output_type": "execute_result"
    }
   ],
   "source": [
    "# DGP:\n",
    "\n",
    "#np.random.seed(0)\n",
    "\n",
    "sigma2_true = 1.5\n",
    "z = normal(loc=0, scale=1, size = (K,1)); z.shape\n",
    "mu_true = uniform(size = (D,1)); mu.shape\n",
    "W_true = normal(loc=0, scale=1, size = (D,K))\n",
    "#W_true = uniform(0,5, size = (D,K)); W_true.shape\n",
    "mean_true = (W_true @ z + mu_true).squeeze()\n",
    "\n",
    "X = multivariate_normal(mean = mean_true, cov = sigma2_true * np.eye(D), size = N); X.shape\n",
    "#X = normal(loc=0, scale=1, size = (N,D)); X.shape"
   ]
  },
  {
   "cell_type": "code",
   "execution_count": 310,
   "metadata": {},
   "outputs": [
    {
     "data": {
      "text/plain": [
       "(10000, 20)"
      ]
     },
     "execution_count": 310,
     "metadata": {},
     "output_type": "execute_result"
    }
   ],
   "source": [
    "# Standardize columns:\n",
    "mean = np.mean(X, axis=0)\n",
    "std = np.std(X, axis=0)\n",
    "X = (X - mean) / std\n",
    "X.shape\n",
    "\n",
    "#https://github.com/polydefk/Probabilistic-PCA/blob/master/PPCA.py"
   ]
  },
  {
   "cell_type": "code",
   "execution_count": 319,
   "metadata": {},
   "outputs": [
    {
     "name": "stdout",
     "output_type": "stream",
     "text": [
      "Iter:  10\n",
      "Iter:  20\n",
      "Completed!\n"
     ]
    }
   ],
   "source": [
    "#-------------\n",
    "# Initialize:\n",
    "#-------------\n",
    "\n",
    "np.random.seed(0)\n",
    "\n",
    "#W = np.empty((D,K,MCsim)) \n",
    "sigma2 = np.empty((MCsim))           \n",
    "\n",
    "i = 0\n",
    "#W[:,:,i] = normal(loc=0, scale=1, size = (D,K))\n",
    "W = np.random.rand(D, K)\n",
    "#W[:,:,i] = np.random.rand(D, K)\n",
    "sigma2[i] = gamma(1)\n",
    "\n",
    "x_mean = np.mean(X, axis=0)       # estimator of mu\n",
    "X_mean = np.tile(x_mean, (N,1))\n",
    "\n",
    "for i in range(1,MCsim):\n",
    "\n",
    "    if i % 10 == 0: print(\"Iter: \",i)\n",
    "\n",
    "    #--------\n",
    "    # E-Step\n",
    "    #--------\n",
    "    #M = (W[:,:,i-1].T) @ W[:,:,i-1] + (sigma2[0,i-1] * np.eye(K))\n",
    "    M = W.T @ W + (sigma2[i-1] * np.eye(K))\n",
    "    M1 = np.linalg.inv(M) \n",
    "\n",
    "    Ez = M1 @ W.T @ (X - X_mean).T       # 12.54\n",
    "    #Ez = M1 @ (W[:,:,i-1].T) @ (X - X_mean).T       # 12.54\n",
    "    \n",
    "    #\n",
    "    #Minv = np.linalg.inv(W.T.dot(W) + sigma2[i-1] * np.identity(K))\n",
    "    #Xn = Minv.dot(np.transpose(W)).dot((X - mean).T)\n",
    "    #XnXn = sigma2[i-1] * Minv + Xn.dot(np.transpose(Xn))\n",
    "\n",
    "    # Maximization Step\n",
    "    #W = (np.transpose(X - mean).dot(np.transpose(Xn))).dot(np.linalg.inv(XnXn))\n",
    "    \n",
    "    z_moment2 = np.empty((N,K,K)) ; #x_cent = (X - X_mean).T ; cross_pr = np.empty((N,D,K))\n",
    "    for n in range(N) :    \n",
    "        z_moment2[n,:,:] = sigma2[i-1] * M1 + np.dot(Ez[:,n].reshape(K,1),Ez[:,n].reshape(1,K))     \n",
    "    #    cross_pr[n,:,:] = np.dot(x_cent[:,n].reshape(D,1) , Ez[:,n].reshape(1,K))\n",
    "\n",
    "    Ezz = z_moment2.sum(axis=0)       # 12.55\n",
    "    #x_Ez = cross_pr.sum(axis=0)\n",
    "\n",
    "    #----------\n",
    "    # M-step\n",
    "    #----------\n",
    "    W = (X - X_mean).T @ Ez.T @ np.linalg.inv(Ezz)     # 12.56\n",
    "\n",
    "    # Do summing in 12.57 term-wise:\n",
    "    first_term = np.sum((X - X_mean)**2)\n",
    "\n",
    "    # 2nd term...\n",
    "    second_term = -2*Ez.T.sum(axis=0) @ W.T @ (X - X_mean).sum(axis=0)\n",
    "    #second_term = -2*Ez.T. @ W.T @ (X - X_mean)\n",
    "\n",
    "    third_term = np.trace(z_moment2[i,:,:] @ W.T @ W)\n",
    "    #third_term = np.trace(z_moment2[i,:,:] @ W[:,:,i].T @ W[:,:,i])\n",
    "\n",
    "    sigma2[i] = (first_term + second_term + third_term)/(N*D)\n",
    "\n",
    "    #sigmaNew = (1 / (N * D)) * \\\n",
    "    #                   (np.square(np.linalg.norm(X - mean)) -\n",
    "    #                    2 * np.trace(np.transpose(Xn).dot(np.transpose(W_avg)).dot((X - mean).T))) + \\\n",
    "    #                   np.trace(XnXn.dot(np.transpose(W_avg).dot(W_avg)))\n",
    "\n",
    "    #sigmaNew = np.absolute(sigmaNew)\n",
    "\n",
    "    #W = W_avg\n",
    "    #sigma2[0,i] = sigmaNew\n",
    "    \n",
    "    \n",
    "print('Completed!')    \n"
   ]
  },
  {
   "cell_type": "code",
   "execution_count": 320,
   "metadata": {},
   "outputs": [
    {
     "data": {
      "text/plain": [
       "1.4990099502772156"
      ]
     },
     "execution_count": 320,
     "metadata": {},
     "output_type": "execute_result"
    }
   ],
   "source": [
    "sigma2[MCsim-1]"
   ]
  },
  {
   "cell_type": "code",
   "execution_count": 321,
   "metadata": {},
   "outputs": [
    {
     "data": {
      "text/plain": [
       "array([[-0.57110209,  0.11887645,  1.03214498,  0.53995243, -2.25126119],\n",
       "       [-0.34361726, -0.06794353,  1.17658723, -1.51501515, -0.89367181],\n",
       "       [-0.68024363,  0.19420664, -0.9674974 ,  1.06825969,  1.21308761],\n",
       "       [ 1.1447188 ,  1.67840445,  0.47840488,  0.09173765,  0.04265348],\n",
       "       [ 1.36425174,  1.09958891, -0.62773444, -0.12931682, -0.89853941],\n",
       "       [ 1.93064772,  0.19860651, -0.14580725, -0.21911445,  1.76249777],\n",
       "       [-1.28223947,  0.26982679,  0.8786986 ,  0.00796627,  1.08857292],\n",
       "       [ 0.0789783 ,  0.80608233,  0.51910492, -0.12728445, -0.84098401],\n",
       "       [-0.4953062 , -0.13702   ,  0.9874245 , -0.71854968,  1.93803498],\n",
       "       [ 0.22039131, -0.47509489,  0.23865399,  0.40564244,  0.29965873],\n",
       "       [ 0.69116504, -1.90583721,  0.28204433, -2.28763993, -0.55147413],\n",
       "       [ 1.20762067, -1.15179807,  0.1551826 , -0.63200906, -1.81677267],\n",
       "       [-0.1880149 ,  0.08906671, -1.6053939 , -0.70751559, -2.14910446],\n",
       "       [ 0.12630375, -0.0436291 ,  1.01271502, -1.74233712, -1.06847438],\n",
       "       [ 1.6553494 ,  0.85193198,  1.37098216,  0.27407453,  0.40380903],\n",
       "       [-1.04002865,  1.25338482, -0.40222482, -1.53301551,  1.54624556],\n",
       "       [ 0.12454664,  0.20654985, -0.90499455,  0.65449813,  0.46133105],\n",
       "       [-1.65459123, -1.38543012,  0.44463164, -0.84676174,  0.89327636],\n",
       "       [ 0.38676116, -0.00513427, -0.93013999, -1.49407352,  0.46873927],\n",
       "       [ 0.22233415, -0.20464649, -0.04644352, -0.69788374, -0.11270165]])"
      ]
     },
     "execution_count": 321,
     "metadata": {},
     "output_type": "execute_result"
    }
   ],
   "source": [
    "W_true"
   ]
  },
  {
   "cell_type": "code",
   "execution_count": 322,
   "metadata": {},
   "outputs": [
    {
     "data": {
      "text/plain": [
       "array([[ 1.93001112e-02,  1.02814236e-01,  5.83465837e-02,\n",
       "         1.03643840e-02,  6.80265907e-02],\n",
       "       [ 3.55173395e-02, -7.64354490e-03,  2.65897091e-02,\n",
       "         1.86013264e-01, -3.02539488e-02],\n",
       "       [ 1.10244996e-01, -1.71634454e-02, -2.42323554e-02,\n",
       "         4.10278494e-02, -6.09283420e-02],\n",
       "       [-1.04053399e-01, -7.77798758e-02,  9.70354160e-02,\n",
       "         6.54946222e-02,  8.79490166e-02],\n",
       "       [ 1.57994918e-01,  1.36227283e-02,  7.03859628e-02,\n",
       "         2.06372475e-02, -3.13557420e-02],\n",
       "       [ 1.42582069e-02, -5.90290012e-02,  1.02442102e-01,\n",
       "        -4.35333291e-03, -4.19910987e-02],\n",
       "       [-7.21715156e-02,  7.27000393e-02,  1.64790727e-02,\n",
       "         6.97372715e-02,  6.45639957e-03],\n",
       "       [ 9.51535307e-03,  2.36069483e-02,  8.33116633e-02,\n",
       "         2.53278734e-02,  8.74240787e-02],\n",
       "       [ 7.87962804e-02,  4.50664152e-02,  5.70012609e-02,\n",
       "        -7.99748382e-02,  8.87316327e-02],\n",
       "       [ 6.20234930e-02,  3.45429281e-02, -9.28979492e-02,\n",
       "         1.81452520e-02,  2.74399006e-02],\n",
       "       [-3.92736239e-03,  2.39839592e-03,  7.16574763e-02,\n",
       "        -8.17750958e-02, -1.17665172e-02],\n",
       "       [-4.45809053e-02,  5.32225769e-02, -5.48234726e-02,\n",
       "         3.16238949e-02, -5.68012954e-02],\n",
       "       [ 1.47667247e-02,  4.08312760e-02,  2.72152218e-02,\n",
       "        -3.70536041e-03, -5.15243730e-02],\n",
       "       [-4.39839521e-02,  1.08820297e-03, -1.40819434e-02,\n",
       "        -2.69564634e-02, -1.92917767e-02],\n",
       "       [ 4.24243104e-02, -1.95363858e-02, -2.27227678e-02,\n",
       "        -2.53953515e-02,  4.62566782e-02],\n",
       "       [ 4.65047726e-03,  2.20778890e-02,  1.14142618e-02,\n",
       "         5.83976074e-03, -5.68436114e-02],\n",
       "       [ 7.40869590e-02,  4.86349773e-03, -2.08124511e-03,\n",
       "         4.90295201e-02,  3.25596082e-02],\n",
       "       [-2.97958673e-05,  3.12837905e-02, -1.05590618e-01,\n",
       "        -1.71566907e-02,  1.41377197e-01],\n",
       "       [-8.37670399e-02,  5.94732232e-02, -4.18309820e-02,\n",
       "         7.09203923e-02, -4.29282901e-02],\n",
       "       [ 1.26146712e-02,  5.66666480e-02, -1.13472511e-02,\n",
       "         3.50349988e-02, -9.51838336e-03]])"
      ]
     },
     "execution_count": 322,
     "metadata": {},
     "output_type": "execute_result"
    }
   ],
   "source": [
    "W"
   ]
  },
  {
   "cell_type": "code",
   "execution_count": 315,
   "metadata": {},
   "outputs": [
    {
     "name": "stdout",
     "output_type": "stream",
     "text": [
      "[0.05307604 0.05224013 0.0519389  0.05188245 0.05140003]\n",
      "[103.03012709 102.2155846  101.92045689 101.86505838 101.39036651]\n"
     ]
    }
   ],
   "source": [
    "from sklearn.decomposition import PCA\n",
    "\n",
    "pca = PCA(n_components=K)\n",
    "pca.fit(X)\n",
    "print(pca.explained_variance_ratio_)\n",
    "print(pca.singular_values_)"
   ]
  },
  {
   "cell_type": "code",
   "execution_count": 316,
   "metadata": {},
   "outputs": [
    {
     "data": {
      "text/plain": [
       "array([[-0.30530365,  0.17671333,  0.2482287 , -0.06171227,  0.23767859],\n",
       "       [ 0.06645569, -0.12651763,  0.28758671, -0.11996385,  0.09026344],\n",
       "       [ 0.453762  , -0.21786545,  0.00700152, -0.09077349, -0.34035534],\n",
       "       [ 0.12987599,  0.15437655,  0.04723429, -0.40817518, -0.14566386],\n",
       "       [ 0.23035664,  0.05253995, -0.16521437,  0.15467591,  0.25552587],\n",
       "       [-0.09646226,  0.16884393, -0.29660299, -0.15189512,  0.10958223],\n",
       "       [ 0.35859568,  0.08054085, -0.13775706,  0.34942608,  0.30394206],\n",
       "       [ 0.22563083, -0.18492968, -0.22652266, -0.20080433,  0.2792982 ],\n",
       "       [ 0.01004149,  0.09530504, -0.39811453, -0.02963334,  0.30502499],\n",
       "       [ 0.06689497,  0.41251811,  0.1399193 ,  0.49835768, -0.03955526],\n",
       "       [-0.34227757, -0.10541061,  0.0863469 ,  0.13133852, -0.0076148 ],\n",
       "       [ 0.09164116,  0.44234455,  0.1990096 , -0.25592854,  0.07671289],\n",
       "       [ 0.10170061,  0.16445864,  0.10932711, -0.00847113,  0.06200025],\n",
       "       [-0.15107231,  0.20170381, -0.19125565, -0.12482972,  0.33850647],\n",
       "       [ 0.06549625, -0.32446091,  0.25099595,  0.17696669,  0.13743332],\n",
       "       [ 0.22913643,  0.28398139, -0.17563451, -0.19254986, -0.28365725],\n",
       "       [ 0.22909241,  0.27639501,  0.22822275, -0.10669386, -0.02366052],\n",
       "       [-0.36743458, -0.0337118 , -0.25524276, -0.19268312, -0.18173691],\n",
       "       [-0.10923634,  0.18741424,  0.32899609, -0.0492592 ,  0.09047706],\n",
       "       [-0.13500111,  0.23910912, -0.27359452,  0.36133681, -0.4364742 ]])"
      ]
     },
     "execution_count": 316,
     "metadata": {},
     "output_type": "execute_result"
    }
   ],
   "source": [
    "pca.components_.T#.shape"
   ]
  },
  {
   "cell_type": "code",
   "execution_count": 317,
   "metadata": {},
   "outputs": [
    {
     "data": {
      "text/plain": [
       "(20, 5)"
      ]
     },
     "execution_count": 317,
     "metadata": {},
     "output_type": "execute_result"
    }
   ],
   "source": [
    "#W.mean(axis=2)\n",
    "W.shape"
   ]
  },
  {
   "cell_type": "code",
   "execution_count": 199,
   "metadata": {},
   "outputs": [
    {
     "data": {
      "text/plain": [
       "array([[9, 5, 4, 3, 3],\n",
       "       [5, 5, 5, 3, 3],\n",
       "       [6, 8, 4, 7, 4]])"
      ]
     },
     "execution_count": 199,
     "metadata": {},
     "output_type": "execute_result"
    }
   ],
   "source": [
    "np.random.seed(0)\n",
    "\n",
    "n=5\n",
    "d=3\n",
    "k = 2\n",
    "x = np.random.poisson(5, (n,d))\n",
    "z = np.random.poisson(5, (n,k))\n",
    "x.T"
   ]
  },
  {
   "cell_type": "code",
   "execution_count": 201,
   "metadata": {},
   "outputs": [
    {
     "data": {
      "text/plain": [
       "array([[117, 135],\n",
       "       [104, 137],\n",
       "       [133, 188]])"
      ]
     },
     "execution_count": 201,
     "metadata": {},
     "output_type": "execute_result"
    }
   ],
   "source": [
    "np.dot(x.T, z)"
   ]
  },
  {
   "cell_type": "code",
   "execution_count": 211,
   "metadata": {},
   "outputs": [],
   "source": [
    "s=0\n",
    "for i in range(n):\n",
    "    s += x.T[:,i].reshape(d,1) @ z[i,:].reshape(1,k)"
   ]
  },
  {
   "cell_type": "code",
   "execution_count": 212,
   "metadata": {},
   "outputs": [
    {
     "data": {
      "text/plain": [
       "array([[117, 135],\n",
       "       [104, 137],\n",
       "       [133, 188]])"
      ]
     },
     "execution_count": 212,
     "metadata": {},
     "output_type": "execute_result"
    }
   ],
   "source": [
    "s"
   ]
  },
  {
   "cell_type": "code",
   "execution_count": null,
   "metadata": {},
   "outputs": [],
   "source": []
  }
 ],
 "metadata": {
  "kernelspec": {
   "display_name": "Python 3.6.3 64-bit ('Alexander': virtualenv)",
   "language": "python",
   "name": "python36364bitalexandervirtualenv7f111c0afebc4b46b4b8288ca8e9a3a8"
  },
  "language_info": {
   "codemirror_mode": {
    "name": "ipython",
    "version": 3
   },
   "file_extension": ".py",
   "mimetype": "text/x-python",
   "name": "python",
   "nbconvert_exporter": "python",
   "pygments_lexer": "ipython3",
   "version": "3.8.3"
  }
 },
 "nbformat": 4,
 "nbformat_minor": 4
}
