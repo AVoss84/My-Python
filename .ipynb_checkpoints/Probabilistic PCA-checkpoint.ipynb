{
 "cells": [
  {
   "cell_type": "markdown",
   "metadata": {},
   "source": [
    "## Probabilistic PCA\n",
    "Reference: chapter 12, Bishop book"
   ]
  },
  {
   "cell_type": "code",
   "execution_count": 235,
   "metadata": {},
   "outputs": [],
   "source": [
    "import matplotlib.pyplot as plt\n",
    "from mpl_toolkits.mplot3d import Axes3D\n",
    "#from sklearn.model_selection import train_test_split\n",
    "import os, pickle\n",
    "import numpy as np\n",
    "from numpy import log, sum, exp, prod\n",
    "from numpy.linalg import det\n",
    "from numpy.random import beta, binomial, dirichlet, uniform, gamma, seed, multinomial, gumbel, rand, multivariate_normal, normal\n",
    "from scipy.stats import wishart #, norm, randint, bernoulli, beta, multinomial, gamma, dirichlet, uniform\n",
    "from scipy.special import digamma\n",
    "from imp import reload\n",
    "from copy import deepcopy\n",
    "#import seaborn as sns\n",
    "import pandas as pd\n"
   ]
  },
  {
   "cell_type": "code",
   "execution_count": 293,
   "metadata": {},
   "outputs": [],
   "source": [
    "N = 10**4\n",
    "D = 20\n",
    "K = 5    # latent dimension M in book\n",
    "MCsim = 30\n",
    "burnin = 10"
   ]
  },
  {
   "cell_type": "markdown",
   "metadata": {},
   "source": [
    "### Generate data: "
   ]
  },
  {
   "cell_type": "code",
   "execution_count": 309,
   "metadata": {},
   "outputs": [
    {
     "data": {
      "text/plain": [
       "(10000, 20)"
      ]
     },
     "execution_count": 309,
     "metadata": {},
     "output_type": "execute_result"
    }
   ],
   "source": [
    "# DGP:\n",
    "\n",
    "#np.random.seed(0)\n",
    "\n",
    "sigma2_true = 1.5\n",
    "z = normal(loc=0, scale=1, size = (K,1)); z.shape\n",
    "mu_true = uniform(size = (D,1)); mu.shape\n",
    "W_true = normal(loc=0, scale=1, size = (D,K))\n",
    "#W_true = uniform(0,5, size = (D,K)); W_true.shape\n",
    "mean_true = (W_true @ z + mu_true).squeeze()\n",
    "\n",
    "X = multivariate_normal(mean = mean_true, cov = sigma2_true * np.eye(D), size = N); X.shape\n",
    "#X = normal(loc=0, scale=1, size = (N,D)); X.shape"
   ]
  },
  {
   "cell_type": "code",
   "execution_count": 310,
   "metadata": {},
   "outputs": [
    {
     "data": {
      "text/plain": [
       "(10000, 20)"
      ]
     },
     "execution_count": 310,
     "metadata": {},
     "output_type": "execute_result"
    }
   ],
   "source": [
    "# Standardize columns:\n",
    "mean = np.mean(X, axis=0)\n",
    "std = np.std(X, axis=0)\n",
    "X = (X - mean) / std\n",
    "X.shape\n",
    "\n",
    "#https://github.com/polydefk/Probabilistic-PCA/blob/master/PPCA.py"
   ]
  },
  {
   "cell_type": "code",
   "execution_count": 311,
   "metadata": {},
   "outputs": [
    {
     "name": "stdout",
     "output_type": "stream",
     "text": [
      "Iter:  10\n",
      "Iter:  20\n",
      "Completed!\n"
     ]
    }
   ],
   "source": [
    "#-------------\n",
    "# Initialize:\n",
    "#-------------\n",
    "\n",
    "np.random.seed(0)\n",
    "\n",
    "#W = np.empty((D,K,MCsim)) \n",
    "sigma2 = np.empty((MCsim))           \n",
    "\n",
    "i = 0\n",
    "#W[:,:,i] = normal(loc=0, scale=1, size = (D,K))\n",
    "W = np.random.rand(D, K)\n",
    "#W[:,:,i] = np.random.rand(D, K)\n",
    "sigma2[i] = gamma(1)\n",
    "\n",
    "x_mean = np.mean(X, axis=0)       # estimator of mu\n",
    "X_mean = np.tile(x_mean, (N,1))\n",
    "\n",
    "for i in range(1,MCsim):\n",
    "\n",
    "    if i % 10 == 0: print(\"Iter: \",i)\n",
    "\n",
    "    #--------\n",
    "    # E-Step\n",
    "    #--------\n",
    "    #M = (W[:,:,i-1].T) @ W[:,:,i-1] + (sigma2[0,i-1] * np.eye(K))\n",
    "    M = W.T @ W + (sigma2[i-1] * np.eye(K))\n",
    "    M1 = np.linalg.inv(M) \n",
    "\n",
    "    Ez = M1 @ W.T @ (X - X_mean).T       # 12.54\n",
    "    #Ez = M1 @ (W[:,:,i-1].T) @ (X - X_mean).T       # 12.54\n",
    "    \n",
    "    #\n",
    "    #Minv = np.linalg.inv(W.T.dot(W) + sigma2[i-1] * np.identity(K))\n",
    "    #Xn = Minv.dot(np.transpose(W)).dot((X - mean).T)\n",
    "    #XnXn = sigma2[i-1] * Minv + Xn.dot(np.transpose(Xn))\n",
    "\n",
    "    # Maximization Step\n",
    "    #W = (np.transpose(X - mean).dot(np.transpose(Xn))).dot(np.linalg.inv(XnXn))\n",
    "    \n",
    "    z_moment2 = np.empty((N,K,K)) ; #x_cent = (X - X_mean).T ; cross_pr = np.empty((N,D,K))\n",
    "    for n in range(N) :    \n",
    "        z_moment2[n,:,:] = sigma2[i-1] * M1 + np.dot(Ez[:,n].reshape(K,1),Ez[:,n].reshape(1,K))     \n",
    "    #    cross_pr[n,:,:] = np.dot(x_cent[:,n].reshape(D,1) , Ez[:,n].reshape(1,K))\n",
    "\n",
    "    Ezz = z_moment2.sum(axis=0)       # 12.55\n",
    "    #x_Ez = cross_pr.sum(axis=0)\n",
    "\n",
    "    #----------\n",
    "    # M-step\n",
    "    #----------\n",
    "    W = (X - X_mean).T @ Ez.T @ np.linalg.inv(Ezz)     # 12.56\n",
    "\n",
    "    # Do summing in 12.57 term-wise:\n",
    "    first_term = np.sum((X - X_mean)**2)\n",
    "\n",
    "    # 2nd term...\n",
    "    second_term = -2*Ez.T.sum(axis=0) @ W.T @ (X - X_mean).sum(axis=0)\n",
    "    #second_term = -2*Ez.T. @ W.T @ (X - X_mean)\n",
    "\n",
    "    third_term = np.trace(z_moment2[i,:,:] @ W.T @ W)\n",
    "    #third_term = np.trace(z_moment2[i,:,:] @ W[:,:,i].T @ W[:,:,i])\n",
    "\n",
    "    sigma2[i] = (first_term + second_term + third_term)/(N*D)\n",
    "\n",
    "    #sigmaNew = (1 / (N * D)) * \\\n",
    "    #                   (np.square(np.linalg.norm(X - mean)) -\n",
    "    #                    2 * np.trace(np.transpose(Xn).dot(np.transpose(W_avg)).dot((X - mean).T))) + \\\n",
    "    #                   np.trace(XnXn.dot(np.transpose(W_avg).dot(W_avg)))\n",
    "\n",
    "    #sigmaNew = np.absolute(sigmaNew)\n",
    "\n",
    "    #W = W_avg\n",
    "    #sigma2[0,i] = sigmaNew\n",
    "    \n",
    "    \n",
    "print('Completed!')    \n"
   ]
  },
  {
   "cell_type": "code",
   "execution_count": 312,
   "metadata": {},
   "outputs": [
    {
     "data": {
      "text/plain": [
       "1.0000010182925387"
      ]
     },
     "execution_count": 312,
     "metadata": {},
     "output_type": "execute_result"
    }
   ],
   "source": [
    "sigma2[MCsim-1]"
   ]
  },
  {
   "cell_type": "code",
   "execution_count": 313,
   "metadata": {},
   "outputs": [
    {
     "data": {
      "text/plain": [
       "array([[ 7.84957521e-01, -9.44368491e-01,  2.38103148e-01,\n",
       "        -1.40596292e+00, -5.90057646e-01],\n",
       "       [-1.10489405e-01, -1.66069981e+00,  1.15147873e-01,\n",
       "        -3.79147563e-01, -1.74235620e+00],\n",
       "       [-1.30324275e+00,  6.05120084e-01,  8.95555986e-01,\n",
       "        -1.31908640e-01,  4.04761812e-01],\n",
       "       [ 2.23843563e-01,  3.29622982e-01,  1.28598401e+00,\n",
       "        -1.50699840e+00,  6.76460732e-01],\n",
       "       [-3.82008956e-01, -2.24258934e-01, -3.02249730e-01,\n",
       "        -3.75147117e-01, -1.22619619e+00],\n",
       "       [ 1.83339199e-01,  1.67094303e+00, -5.61330204e-02,\n",
       "        -1.38504274e-03, -6.87299037e-01],\n",
       "       [-1.17474546e-01,  4.66166426e-01, -3.70242441e-01,\n",
       "        -4.53804041e-01,  4.03264540e-01],\n",
       "       [-9.18004770e-01,  2.52496627e-01,  8.20321797e-01,\n",
       "         1.35994854e+00, -9.03820073e-02],\n",
       "       [ 1.36759724e+00,  1.03440989e+00, -9.96212640e-01,\n",
       "        -1.21793851e+00, -3.04963638e-01],\n",
       "       [ 1.02893549e+00, -7.22870076e-02, -6.00657558e-01,\n",
       "         1.55224318e+00,  2.86904488e-01],\n",
       "       [-2.32059428e+00,  3.17160626e-01,  5.20040615e-01,\n",
       "         2.25608654e-01,  4.49712100e-01],\n",
       "       [-6.72756089e-02, -1.31839587e+00, -3.70704003e-01,\n",
       "        -9.45615796e-01, -9.32740911e-01],\n",
       "       [-1.26306835e+00,  4.52489093e-01,  9.78961454e-02,\n",
       "        -4.48165363e-01, -6.49337928e-01],\n",
       "       [-2.34231050e-02,  1.07919473e+00, -2.00421572e+00,\n",
       "         3.76876521e-01, -5.45711974e-01],\n",
       "       [-1.88458584e+00, -1.94570308e+00, -9.12783494e-01,\n",
       "         2.19509556e-01,  3.93062934e-01],\n",
       "       [-9.38981573e-01,  1.01702099e+00,  1.42298350e+00,\n",
       "         3.96086585e-01, -5.91402668e-01],\n",
       "       [ 1.12441918e+00,  7.55395696e-01,  8.67407411e-01,\n",
       "        -6.56463675e-01, -2.83455451e+00],\n",
       "       [ 2.11679102e+00, -1.61087840e+00, -3.57680719e-02,\n",
       "         2.38074535e+00,  3.30576756e-01],\n",
       "       [ 9.49246474e-01, -1.50239657e+00, -1.77766695e+00,\n",
       "        -5.32702792e-01,  1.09074973e+00],\n",
       "       [-3.46249448e-01, -7.94636321e-01,  1.97967290e-01,\n",
       "         1.08193522e+00, -1.44494020e+00]])"
      ]
     },
     "execution_count": 313,
     "metadata": {},
     "output_type": "execute_result"
    }
   ],
   "source": [
    "W_true"
   ]
  },
  {
   "cell_type": "code",
   "execution_count": 314,
   "metadata": {},
   "outputs": [
    {
     "data": {
      "text/plain": [
       "array([[-0.01307545,  0.06998905,  0.03605124, -0.0888554 ,  0.02115214],\n",
       "       [ 0.01845082, -0.02001692,  0.04989856,  0.04480104, -0.02707972],\n",
       "       [ 0.02046831, -0.04478466, -0.01852611,  0.09467335, -0.03915947],\n",
       "       [-0.05050983, -0.0471101 ,  0.00308929,  0.0616824 ,  0.08172922],\n",
       "       [ 0.05700188,  0.0278987 , -0.05570791,  0.06404355, -0.01531623],\n",
       "       [-0.03839906, -0.00541594,  0.07403237, -0.03690757,  0.01198179],\n",
       "       [ 0.06242686,  0.07043583,  0.01502781,  0.0027958 , -0.07307162],\n",
       "       [ 0.03819127,  0.0132049 ,  0.01952014,  0.07073288,  0.01900918],\n",
       "       [-0.01290492,  0.06063826,  0.02671667, -0.03169747,  0.04415092],\n",
       "       [ 0.03424002,  0.04626395, -0.07665443, -0.00888649, -0.01401486],\n",
       "       [-0.02939323,  0.0046113 ,  0.04173739, -0.09900415, -0.02046054],\n",
       "       [-0.00262687,  0.04549432,  0.02662814,  0.07910805,  0.04764421],\n",
       "       [ 0.01308952,  0.03023749,  0.03118561,  0.06402387, -0.01247835],\n",
       "       [-0.00821359,  0.0894881 ,  0.03782986,  0.03665073,  0.04791976],\n",
       "       [ 0.08427395, -0.04852936,  0.08890961, -0.01361272, -0.00482106],\n",
       "       [-0.04968482,  0.03717556, -0.02571863,  0.06252503, -0.01603974],\n",
       "       [ 0.03719169,  0.02918457, -0.00881785,  0.07704695,  0.01394459],\n",
       "       [-0.0592786 , -0.00158971, -0.07366137, -0.01186291,  0.06851165],\n",
       "       [-0.04609695,  0.01068531, -0.05543536, -0.01004106,  0.04036194],\n",
       "       [-0.02561343,  0.01815091, -0.01864982, -0.00761084, -0.05029754]])"
      ]
     },
     "execution_count": 314,
     "metadata": {},
     "output_type": "execute_result"
    }
   ],
   "source": [
    "W"
   ]
  },
  {
   "cell_type": "code",
   "execution_count": 315,
   "metadata": {},
   "outputs": [
    {
     "name": "stdout",
     "output_type": "stream",
     "text": [
      "[0.05307604 0.05224013 0.0519389  0.05188245 0.05140003]\n",
      "[103.03012709 102.2155846  101.92045689 101.86505838 101.39036651]\n"
     ]
    }
   ],
   "source": [
    "from sklearn.decomposition import PCA\n",
    "\n",
    "pca = PCA(n_components=K)\n",
    "pca.fit(X)\n",
    "print(pca.explained_variance_ratio_)\n",
    "print(pca.singular_values_)"
   ]
  },
  {
   "cell_type": "code",
   "execution_count": 316,
   "metadata": {},
   "outputs": [
    {
     "data": {
      "text/plain": [
       "array([[-0.30530365,  0.17671333,  0.2482287 , -0.06171227,  0.23767859],\n",
       "       [ 0.06645569, -0.12651763,  0.28758671, -0.11996385,  0.09026344],\n",
       "       [ 0.453762  , -0.21786545,  0.00700152, -0.09077349, -0.34035534],\n",
       "       [ 0.12987599,  0.15437655,  0.04723429, -0.40817518, -0.14566386],\n",
       "       [ 0.23035664,  0.05253995, -0.16521437,  0.15467591,  0.25552587],\n",
       "       [-0.09646226,  0.16884393, -0.29660299, -0.15189512,  0.10958223],\n",
       "       [ 0.35859568,  0.08054085, -0.13775706,  0.34942608,  0.30394206],\n",
       "       [ 0.22563083, -0.18492968, -0.22652266, -0.20080433,  0.2792982 ],\n",
       "       [ 0.01004149,  0.09530504, -0.39811453, -0.02963334,  0.30502499],\n",
       "       [ 0.06689497,  0.41251811,  0.1399193 ,  0.49835768, -0.03955526],\n",
       "       [-0.34227757, -0.10541061,  0.0863469 ,  0.13133852, -0.0076148 ],\n",
       "       [ 0.09164116,  0.44234455,  0.1990096 , -0.25592854,  0.07671289],\n",
       "       [ 0.10170061,  0.16445864,  0.10932711, -0.00847113,  0.06200025],\n",
       "       [-0.15107231,  0.20170381, -0.19125565, -0.12482972,  0.33850647],\n",
       "       [ 0.06549625, -0.32446091,  0.25099595,  0.17696669,  0.13743332],\n",
       "       [ 0.22913643,  0.28398139, -0.17563451, -0.19254986, -0.28365725],\n",
       "       [ 0.22909241,  0.27639501,  0.22822275, -0.10669386, -0.02366052],\n",
       "       [-0.36743458, -0.0337118 , -0.25524276, -0.19268312, -0.18173691],\n",
       "       [-0.10923634,  0.18741424,  0.32899609, -0.0492592 ,  0.09047706],\n",
       "       [-0.13500111,  0.23910912, -0.27359452,  0.36133681, -0.4364742 ]])"
      ]
     },
     "execution_count": 316,
     "metadata": {},
     "output_type": "execute_result"
    }
   ],
   "source": [
    "pca.components_.T#.shape"
   ]
  },
  {
   "cell_type": "code",
   "execution_count": 317,
   "metadata": {},
   "outputs": [
    {
     "data": {
      "text/plain": [
       "(20, 5)"
      ]
     },
     "execution_count": 317,
     "metadata": {},
     "output_type": "execute_result"
    }
   ],
   "source": [
    "#W.mean(axis=2)\n",
    "W.shape"
   ]
  },
  {
   "cell_type": "code",
   "execution_count": 199,
   "metadata": {},
   "outputs": [
    {
     "data": {
      "text/plain": [
       "array([[9, 5, 4, 3, 3],\n",
       "       [5, 5, 5, 3, 3],\n",
       "       [6, 8, 4, 7, 4]])"
      ]
     },
     "execution_count": 199,
     "metadata": {},
     "output_type": "execute_result"
    }
   ],
   "source": [
    "np.random.seed(0)\n",
    "\n",
    "n=5\n",
    "d=3\n",
    "k = 2\n",
    "x = np.random.poisson(5, (n,d))\n",
    "z = np.random.poisson(5, (n,k))\n",
    "x.T"
   ]
  },
  {
   "cell_type": "code",
   "execution_count": 201,
   "metadata": {},
   "outputs": [
    {
     "data": {
      "text/plain": [
       "array([[117, 135],\n",
       "       [104, 137],\n",
       "       [133, 188]])"
      ]
     },
     "execution_count": 201,
     "metadata": {},
     "output_type": "execute_result"
    }
   ],
   "source": [
    "np.dot(x.T, z)"
   ]
  },
  {
   "cell_type": "code",
   "execution_count": 211,
   "metadata": {},
   "outputs": [],
   "source": [
    "s=0\n",
    "for i in range(n):\n",
    "    s += x.T[:,i].reshape(d,1) @ z[i,:].reshape(1,k)"
   ]
  },
  {
   "cell_type": "code",
   "execution_count": 212,
   "metadata": {},
   "outputs": [
    {
     "data": {
      "text/plain": [
       "array([[117, 135],\n",
       "       [104, 137],\n",
       "       [133, 188]])"
      ]
     },
     "execution_count": 212,
     "metadata": {},
     "output_type": "execute_result"
    }
   ],
   "source": [
    "s"
   ]
  },
  {
   "cell_type": "code",
   "execution_count": null,
   "metadata": {},
   "outputs": [],
   "source": []
  }
 ],
 "metadata": {
  "kernelspec": {
   "display_name": "Python 3.6.3 64-bit ('Alexander': virtualenv)",
   "language": "python",
   "name": "python36364bitalexandervirtualenv7f111c0afebc4b46b4b8288ca8e9a3a8"
  },
  "language_info": {
   "codemirror_mode": {
    "name": "ipython",
    "version": 3
   },
   "file_extension": ".py",
   "mimetype": "text/x-python",
   "name": "python",
   "nbconvert_exporter": "python",
   "pygments_lexer": "ipython3",
   "version": "3.8.3"
  }
 },
 "nbformat": 4,
 "nbformat_minor": 4
}
